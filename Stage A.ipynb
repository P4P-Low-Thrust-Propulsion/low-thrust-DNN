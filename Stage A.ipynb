{
 "cells": [
  {
   "cell_type": "code",
   "execution_count": 49,
   "id": "initial_id",
   "metadata": {
    "collapsed": true,
    "ExecuteTime": {
     "end_time": "2024-04-30T01:44:59.440544Z",
     "start_time": "2024-04-30T01:44:59.375143Z"
    }
   },
   "outputs": [
    {
     "ename": "AttributeError",
     "evalue": "'numpy.ndarray' object has no attribute 'iloc'",
     "output_type": "error",
     "traceback": [
      "\u001B[0;31m---------------------------------------------------------------------------\u001B[0m",
      "\u001B[0;31mAttributeError\u001B[0m                            Traceback (most recent call last)",
      "Cell \u001B[0;32mIn[49], line 14\u001B[0m\n\u001B[1;32m     10\u001B[0m scaler \u001B[38;5;241m=\u001B[39m MinMaxScaler()\n\u001B[1;32m     11\u001B[0m df \u001B[38;5;241m=\u001B[39m scaler\u001B[38;5;241m.\u001B[39mfit_transform(df)\n\u001B[0;32m---> 14\u001B[0m df_Features \u001B[38;5;241m=\u001B[39m df\u001B[38;5;241m.\u001B[39miloc[:, :\u001B[38;5;241m7\u001B[39m]\n\u001B[1;32m     15\u001B[0m df_Labels   \u001B[38;5;241m=\u001B[39m df\u001B[38;5;241m.\u001B[39miloc[:, \u001B[38;5;241m-\u001B[39m\u001B[38;5;241m1\u001B[39m]\n\u001B[1;32m     20\u001B[0m data_Features \u001B[38;5;241m=\u001B[39m df_Features\u001B[38;5;241m.\u001B[39mvalues\n",
      "\u001B[0;31mAttributeError\u001B[0m: 'numpy.ndarray' object has no attribute 'iloc'"
     ]
    }
   ],
   "source": [
    "import torch\n",
    "from torch import nn\n",
    "import pandas as pd\n",
    "import matplotlib.pyplot as plt\n",
    "from sklearn.preprocessing import MinMaxScaler\n",
    "import numpy as np\n",
    "from IPython import display\n",
    "\n",
    "df = pd.read_csv('dataset.csv')\n",
    "scaler = MinMaxScaler()\n",
    "df = scaler.fit_transform(df)\n",
    "\n",
    "\n",
    "df_Features = df.iloc[:, :7]\n",
    "df_Labels   = df.iloc[:, -1]\n",
    "\n",
    "data_Features = df_Features.values\n",
    "data_Labels = df_Labels.values\n",
    "\n",
    "scaler = MinMaxScaler()\n",
    "# Fit and transform the features\n",
    "\n",
    "\n",
    "\n",
    "#X = torch.from_numpy(X).type(torch.float)\n",
    "#y = torch.from_numpy(y).type(torch.float)\n",
    "#tensor_Features = torch.tensor(data_Features, dtype=torch.float32)\n",
    "#tensor_Labels   = torch.tensor(data_Labels  , dtype=torch.float32)\n",
    "X = torch.from_numpy(data_Features).type(torch.float)\n",
    "y = torch.from_numpy(data_Labels).type(torch.float)"
   ]
  },
  {
   "cell_type": "code",
   "outputs": [
    {
     "name": "stdout",
     "output_type": "stream",
     "text": [
      "torch.Size([800, 7]) torch.Size([200, 7]) torch.Size([800]) torch.Size([200])\n"
     ]
    },
    {
     "data": {
      "text/plain": "(torch.Size([800, 7]),\n torch.Size([200, 7]),\n torch.Size([800, 1]),\n torch.Size([200, 1]))"
     },
     "execution_count": 12,
     "metadata": {},
     "output_type": "execute_result"
    }
   ],
   "source": [
    "from sklearn.model_selection import train_test_split\n",
    "\n",
    "\n",
    "\n",
    "X_train, X_test, y_train, y_test = train_test_split(X,\n",
    "                                                    y,\n",
    "                                                    test_size=0.2,\n",
    "                                                    random_state=42)\n",
    "\n",
    "print(X_train.shape,X_test.shape,y_train.shape,y_test.shape)\n",
    "len(X_train),len(X_test),len(y_train),len(y_test)\n",
    "y_train = torch.unsqueeze(y_train, dim=1)\n",
    "y_test = torch.unsqueeze(y_test, dim=1)\n",
    "X_train.shape,X_test.shape,y_train.shape,y_test.shape\n"
   ],
   "metadata": {
    "collapsed": false,
    "ExecuteTime": {
     "end_time": "2024-04-30T01:23:59.527413Z",
     "start_time": "2024-04-30T01:23:59.518033Z"
    }
   },
   "id": "eee421c5d18a5d4e",
   "execution_count": 12
  },
  {
   "cell_type": "code",
   "outputs": [
    {
     "data": {
      "text/plain": "OrderedDict([('layer1.weight',\n              tensor([[ 0.2890,  0.3137, -0.0885,  0.3472, -0.0828,  0.0763, -0.1840],\n                      [ 0.2220,  0.3332, -0.2773,  0.3285,  0.0707,  0.2792,  0.0512],\n                      [ 0.1822, -0.0534,  0.2914,  0.0559, -0.1764,  0.0963, -0.1741],\n                      [-0.0443, -0.1535,  0.2507, -0.2984, -0.1742, -0.1067, -0.2273],\n                      [ 0.0357, -0.3733,  0.3413, -0.3211,  0.2918,  0.0629, -0.1227],\n                      [ 0.2336,  0.0589,  0.3054,  0.0413, -0.1192,  0.1016, -0.1025],\n                      [ 0.1591,  0.3375,  0.2185, -0.1652,  0.2182,  0.0676,  0.1919],\n                      [-0.2304, -0.3742, -0.1460, -0.2899,  0.3101,  0.1089,  0.1566],\n                      [ 0.1195, -0.0066,  0.2958, -0.2685,  0.0238, -0.2580,  0.1165],\n                      [-0.1302,  0.1158, -0.0787,  0.3135, -0.2240, -0.2254, -0.2254],\n                      [ 0.3400,  0.1260,  0.3637, -0.3119, -0.3749, -0.2957, -0.2543],\n                      [ 0.1531,  0.1353,  0.3141, -0.1952, -0.2577,  0.2005, -0.1528],\n                      [ 0.2294, -0.0897,  0.2162, -0.2937, -0.1907,  0.1152,  0.0799],\n                      [-0.0964,  0.2253,  0.2569, -0.2741, -0.2018,  0.3461, -0.1275],\n                      [-0.1340, -0.3657, -0.2164,  0.0944, -0.0499, -0.2744,  0.0089],\n                      [-0.2582, -0.3207, -0.2081, -0.3308, -0.2407,  0.3778,  0.0714],\n                      [ 0.1165, -0.3525, -0.2482, -0.1258,  0.0591, -0.3326, -0.1629],\n                      [-0.2263,  0.0010, -0.1406, -0.0262, -0.2561, -0.2594, -0.2205],\n                      [-0.1294, -0.2983,  0.3169, -0.0750,  0.3252,  0.1178, -0.3201],\n                      [ 0.2616, -0.1040, -0.1449, -0.3137, -0.3758,  0.1081, -0.0826],\n                      [ 0.1472, -0.3102,  0.2806, -0.2774, -0.0653,  0.0789,  0.1951],\n                      [ 0.3051,  0.3443, -0.2997,  0.0951, -0.1626, -0.0414, -0.2829],\n                      [ 0.3443, -0.2774,  0.2020,  0.1328,  0.1228, -0.2043,  0.3436],\n                      [ 0.0831,  0.0486, -0.3331,  0.1587, -0.0567, -0.1732,  0.3247],\n                      [ 0.0843, -0.2091, -0.1913, -0.0180,  0.2110, -0.0966, -0.2157],\n                      [-0.1294, -0.2824,  0.1348,  0.2926, -0.3558,  0.0878,  0.1953],\n                      [ 0.0685, -0.1346,  0.1973,  0.1986,  0.1413, -0.0664, -0.1001],\n                      [ 0.0404, -0.0668, -0.1126,  0.2416,  0.3248, -0.0374, -0.0846],\n                      [ 0.0055, -0.0226,  0.0909,  0.1059, -0.3433, -0.1395,  0.3183],\n                      [ 0.1472, -0.0188, -0.2279, -0.2312, -0.3386, -0.1232,  0.1276],\n                      [ 0.2410,  0.1745, -0.3341, -0.2273, -0.0596,  0.3656,  0.0547],\n                      [-0.0979,  0.1564, -0.1440, -0.2446,  0.2759, -0.1719, -0.0758]])),\n             ('layer1.bias',\n              tensor([-0.3760,  0.2530,  0.2864,  0.1377, -0.2635, -0.3730, -0.3070,  0.2818,\n                       0.1815,  0.3181,  0.1980,  0.0957, -0.0037, -0.2874, -0.3238, -0.3535,\n                       0.1547, -0.1856, -0.0761, -0.2175, -0.0689, -0.2660, -0.2470,  0.1254,\n                      -0.1123,  0.2333, -0.1213, -0.2773, -0.0667, -0.1832, -0.1156, -0.3598])),\n             ('layer2.weight',\n              tensor([[ 0.0989, -0.1231,  0.0889,  0.0802,  0.1263, -0.1356,  0.1271, -0.0836,\n                        0.0656,  0.1660, -0.0249, -0.0014, -0.0407, -0.1476,  0.0848, -0.1755,\n                        0.1097,  0.1323,  0.1672, -0.0417, -0.1452,  0.0397,  0.0977, -0.1759,\n                       -0.0401, -0.1060, -0.0155, -0.0870, -0.0723, -0.0561, -0.1680,  0.1450]])),\n             ('layer2.bias', tensor([0.1482]))])"
     },
     "execution_count": 13,
     "metadata": {},
     "output_type": "execute_result"
    }
   ],
   "source": [
    "# 1. Construct a model class that subclasses nn.Module\n",
    "from torch import nn\n",
    "import torch.nn.functional as F\n",
    "\n",
    "class Model_0v1(nn.Module):\n",
    "    def __init__(self):\n",
    "        super().__init__()\n",
    "        self.layer1=nn.Linear(in_features=7,out_features=32)\n",
    "        self.layer2=nn.Linear(in_features=32,out_features=1)\n",
    "        self.relu = nn.ReLU()\n",
    "        \n",
    "    def forward(self,x):\n",
    "        #return self.layer3(self.relu(self.layer2(self.relu(self.layer1(x)))))\n",
    "        return self.layer2(self.relu(self.layer1(x)))\n",
    "\n",
    "torch.manual_seed(42)\n",
    "#create an instance of the mdoel \n",
    "model_01 = Model_0v1()\n",
    "model_01.state_dict()"
   ],
   "metadata": {
    "collapsed": false,
    "ExecuteTime": {
     "end_time": "2024-04-30T01:24:00.224443Z",
     "start_time": "2024-04-30T01:24:00.209313Z"
    }
   },
   "id": "f9acf03ac04cefbe",
   "execution_count": 13
  },
  {
   "cell_type": "code",
   "outputs": [
    {
     "data": {
      "text/plain": "<generator object Module.parameters at 0x14ffa2500>"
     },
     "execution_count": 260,
     "metadata": {},
     "output_type": "execute_result"
    }
   ],
   "source": [
    "model_01.\n"
   ],
   "metadata": {
    "collapsed": false,
    "ExecuteTime": {
     "end_time": "2024-04-30T01:15:13.779833Z",
     "start_time": "2024-04-30T01:15:13.774125Z"
    }
   },
   "id": "4113756b0bf1afc9",
   "execution_count": 260
  },
  {
   "cell_type": "code",
   "outputs": [],
   "source": [
    "#train the model, \n",
    "\n",
    "#the whole idea is to move the red dots to the green, unknown pararemeters to known parameters\n",
    "#loss function \n",
    "#optomizer \n",
    "\n",
    "\n",
    "# setting up a loss function \n",
    "loss_fn=nn.MSELoss()\n",
    "\n",
    "# setting up a optomizer \n",
    "optomizer = torch.optim.SGD(params = model_01.parameters(),\n",
    "                            lr = 0.05) #lr = learning rate\n",
    "\n",
    "\n"
   ],
   "metadata": {
    "collapsed": false,
    "ExecuteTime": {
     "end_time": "2024-04-30T01:24:07.216337Z",
     "start_time": "2024-04-30T01:24:07.211223Z"
    }
   },
   "id": "8066d27498f5d119",
   "execution_count": 14
  },
  {
   "cell_type": "code",
   "outputs": [
    {
     "name": "stdout",
     "output_type": "stream",
     "text": [
      "Epoch: 0 | Test: nan | Test loss: nan\n",
      "Epoch: 100 | Test: nan | Test loss: nan\n",
      "Epoch: 200 | Test: nan | Test loss: nan\n",
      "Epoch: 300 | Test: nan | Test loss: nan\n",
      "Epoch: 400 | Test: nan | Test loss: nan\n",
      "Epoch: 500 | Test: nan | Test loss: nan\n",
      "Epoch: 600 | Test: nan | Test loss: nan\n",
      "Epoch: 700 | Test: nan | Test loss: nan\n",
      "Epoch: 800 | Test: nan | Test loss: nan\n",
      "Epoch: 900 | Test: nan | Test loss: nan\n"
     ]
    },
    {
     "data": {
      "text/plain": "<Figure size 640x480 with 1 Axes>",
      "image/png": "[encoded data removed]"
     },
     "metadata": {},
     "output_type": "display_data"
    }
   ],
   "source": [
    "\n",
    "torch.manual_seed(42)\n",
    "epochs = 1000\n",
    "\n",
    "plt.figure()\n",
    "\n",
    "losses = []\n",
    "test_losses = []\n",
    "\n",
    "\n",
    "\n",
    "for epoch in range(epochs):\n",
    "    model_01.train() \n",
    "    # 1 forward pass \n",
    "    y_preds = model_01(X_train)\n",
    "    # 2 calculate the loss \n",
    "    loss = loss_fn(y_preds,y_train)\n",
    "    losses.append(loss.item())\n",
    "    # 3 optomizer zero grad \n",
    "    optomizer.zero_grad()\n",
    "    # 4 perfrom back propogation on the loss with respect to the parameters of the model \n",
    "    loss.backward()\n",
    "    # 5. step the optimizer (perform gradeint descent )\n",
    "    optomizer.step() # by deful how the optimzer changes will acculumate through the loop so we have to zero them above in step 3\n",
    "    #TESTING\n",
    "    model_01.eval() #tunrs off diffrence setting sin th emodel not needed evaluating/testing\n",
    "    \n",
    "    with torch.inference_mode():\n",
    "        # 1. forward \n",
    "        test_pred = model_01(X_test)\n",
    "        #2. lest \n",
    "        test_loss = loss_fn(test_pred,y_test)\n",
    "        test_losses.append(test_loss.item())\n",
    "    \n",
    "\n",
    "    if epoch%100==0:\n",
    "        #print(f\"Loss: {y_preds}\")\n",
    "        print(f\"Epoch: {epoch} | Test: {loss} | Test loss: {test_loss}\")\n",
    "\n",
    "    \n",
    "plt.plot(losses, label='Training Loss')\n",
    "plt.xlabel('Epoch')\n",
    "plt.ylabel('Loss')\n",
    "plt.title('Training Loss Curve')\n",
    "plt.legend()\n",
    "plt.show()\n",
    "    "
   ],
   "metadata": {
    "collapsed": false,
    "ExecuteTime": {
     "end_time": "2024-04-30T01:15:05.649470Z",
     "start_time": "2024-04-30T01:15:05.260972Z"
    }
   },
   "id": "9dc24da78009a5c5",
   "execution_count": 256
  },
  {
   "cell_type": "code",
   "outputs": [
    {
     "data": {
      "text/plain": "tensor(1.9844e+10, grad_fn=<MseLossBackward0>)"
     },
     "execution_count": 5,
     "metadata": {},
     "output_type": "execute_result"
    }
   ],
   "source": [
    "model_01.train() \n",
    "    # 1 forward pass \n",
    "y_preds = model_01(X_train)\n",
    "    # 2 calculate the loss \n",
    "loss = loss_fn(y_preds,y_train)\n",
    "loss"
   ],
   "metadata": {
    "collapsed": false,
    "ExecuteTime": {
     "end_time": "2024-04-30T01:22:27.818798Z",
     "start_time": "2024-04-30T01:22:27.794221Z"
    }
   },
   "id": "c0ea3b5e29a0b2cf",
   "execution_count": 5
  },
  {
   "cell_type": "code",
   "outputs": [
    {
     "ename": "NameError",
     "evalue": "name 'losses' is not defined",
     "output_type": "error",
     "traceback": [
      "\u001B[0;31m---------------------------------------------------------------------------\u001B[0m",
      "\u001B[0;31mNameError\u001B[0m                                 Traceback (most recent call last)",
      "Cell \u001B[0;32mIn[6], line 1\u001B[0m\n\u001B[0;32m----> 1\u001B[0m losses\n",
      "\u001B[0;31mNameError\u001B[0m: name 'losses' is not defined"
     ]
    }
   ],
   "source": [
    "loss"
   ],
   "metadata": {
    "collapsed": false,
    "ExecuteTime": {
     "end_time": "2024-04-30T01:22:28.892604Z",
     "start_time": "2024-04-30T01:22:28.578125Z"
    }
   },
   "id": "fd3bf5724f6b502c",
   "execution_count": 6
  },
  {
   "cell_type": "code",
   "outputs": [
    {
     "data": {
      "text/plain": "Model_0v1(\n  (layer1): Linear(in_features=7, out_features=32, bias=True)\n  (layer2): Linear(in_features=32, out_features=1, bias=True)\n  (relu): ReLU()\n)"
     },
     "execution_count": 8,
     "metadata": {},
     "output_type": "execute_result"
    }
   ],
   "source": [
    "model_01.train() \n",
    "    # 1 forward pass \n",
    "y_preds = model_01(X_train)\n",
    "loss = loss_fn(y_preds,y_train)\n",
    "loss\n",
    "optomizer.zero_grad()\n",
    "    # 4 perfrom back propogation on the loss with respect to the parameters of the model \n",
    "loss.backward()\n",
    "    # 5. step the optimizer (perform gradeint descent )\n",
    "optomizer.step() # by deful how the optimzer changes will acculumate through the loop so we have to zero them above in step 3\n",
    "    #TESTING\n",
    "model_01.eval() #tunrs off diffrence setting sin th emodel not needed evaluating/testing"
   ],
   "metadata": {
    "collapsed": false,
    "ExecuteTime": {
     "end_time": "2024-04-30T01:23:31.191516Z",
     "start_time": "2024-04-30T01:23:31.078787Z"
    }
   },
   "id": "4daa32391f922176",
   "execution_count": 8
  },
  {
   "cell_type": "code",
   "outputs": [
    {
     "data": {
      "text/plain": "tensor(inf, grad_fn=<MseLossBackward0>)"
     },
     "execution_count": 18,
     "metadata": {},
     "output_type": "execute_result"
    }
   ],
   "source": [
    "y_preds = model_01(X_train)\n",
    "loss = loss_fn(y_preds,y_train)\n",
    "loss"
   ],
   "metadata": {
    "collapsed": false,
    "ExecuteTime": {
     "end_time": "2024-04-30T01:24:31.579188Z",
     "start_time": "2024-04-30T01:24:31.575041Z"
    }
   },
   "id": "e40870ffb4de06ec",
   "execution_count": 18
  },
  {
   "cell_type": "code",
   "outputs": [
    {
     "data": {
      "text/plain": "Model_0v1(\n  (layer1): Linear(in_features=7, out_features=32, bias=True)\n  (layer2): Linear(in_features=32, out_features=1, bias=True)\n  (relu): ReLU()\n)"
     },
     "execution_count": 17,
     "metadata": {},
     "output_type": "execute_result"
    }
   ],
   "source": [
    "optomizer.zero_grad()\n",
    "    # 4 perfrom back propogation on the loss with respect to the parameters of the model \n",
    "loss.backward()\n",
    "    # 5. step the optimizer (perform gradeint descent )\n",
    "optomizer.step() # by deful how the optimzer changes will acculumate through the loop so we have to zero them above in step 3\n",
    "    #TESTING\n",
    "model_01.eval()"
   ],
   "metadata": {
    "collapsed": false,
    "ExecuteTime": {
     "end_time": "2024-04-30T01:24:28.639417Z",
     "start_time": "2024-04-30T01:24:28.621116Z"
    }
   },
   "id": "45cc170c8aa941d",
   "execution_count": 17
  },
  {
   "cell_type": "code",
   "outputs": [
    {
     "data": {
      "text/plain": "     start_pos_x  start_pos_y  start_pos_z  rel_dist_x  rel_dist_y  \\\n0     -854279.53    457451.87    922102.87  -580936.76   113494.77   \n1      290459.18    115626.74   -767046.33   386519.46   984112.25   \n2      654648.78   -150918.78    657563.30   739209.02   711693.09   \n3     -410380.36   -764721.31   -159168.80  -355384.07   235968.78   \n4     -351986.97    537589.30    532017.49   796938.95  -241010.17   \n..           ...          ...          ...         ...         ...   \n995   -490520.49     76967.07    112810.34   333254.67   -19724.37   \n996   -148833.20    790339.75    136492.91  -138800.73  -505614.02   \n997    263108.39   -190198.05    925019.88  -635975.20   230623.78   \n998   -463530.26   -831779.27   -542631.62    35550.28  -716060.59   \n999   -326685.82    365025.01    355324.04    23630.78  -519151.50   \n\n     rel_dist_z     tof  \n0    -671791.99    0.81  \n1    -512115.03   10.17  \n2    -746213.54    4.62  \n3    -880012.08    8.14  \n4     506281.31    3.22  \n..          ...     ...  \n995  -158179.98  852.69  \n996  -150662.19  962.27  \n997   814655.23   11.62  \n998  -358870.74   18.18  \n999  -186319.98  950.42  \n\n[1000 rows x 7 columns]",
      "text/html": "<div>\n<style scoped>\n    .dataframe tbody tr th:only-of-type {\n        vertical-align: middle;\n    }\n\n    .dataframe tbody tr th {\n        vertical-align: top;\n    }\n\n    .dataframe thead th {\n        text-align: right;\n    }\n</style>\n<table border=\"1\" class=\"dataframe\">\n  <thead>\n    <tr style=\"text-align: right;\">\n      <th></th>\n      <th>start_pos_x</th>\n      <th>start_pos_y</th>\n      <th>start_pos_z</th>\n      <th>rel_dist_x</th>\n      <th>rel_dist_y</th>\n      <th>rel_dist_z</th>\n      <th>tof</th>\n    </tr>\n  </thead>\n  <tbody>\n    <tr>\n      <th>0</th>\n      <td>-854279.53</td>\n      <td>457451.87</td>\n      <td>922102.87</td>\n      <td>-580936.76</td>\n      <td>113494.77</td>\n      <td>-671791.99</td>\n      <td>0.81</td>\n    </tr>\n    <tr>\n      <th>1</th>\n      <td>290459.18</td>\n      <td>115626.74</td>\n      <td>-767046.33</td>\n      <td>386519.46</td>\n      <td>984112.25</td>\n      <td>-512115.03</td>\n      <td>10.17</td>\n    </tr>\n    <tr>\n      <th>2</th>\n      <td>654648.78</td>\n      <td>-150918.78</td>\n      <td>657563.30</td>\n      <td>739209.02</td>\n      <td>711693.09</td>\n      <td>-746213.54</td>\n      <td>4.62</td>\n    </tr>\n    <tr>\n      <th>3</th>\n      <td>-410380.36</td>\n      <td>-764721.31</td>\n      <td>-159168.80</td>\n      <td>-355384.07</td>\n      <td>235968.78</td>\n      <td>-880012.08</td>\n      <td>8.14</td>\n    </tr>\n    <tr>\n      <th>4</th>\n      <td>-351986.97</td>\n      <td>537589.30</td>\n      <td>532017.49</td>\n      <td>796938.95</td>\n      <td>-241010.17</td>\n      <td>506281.31</td>\n      <td>3.22</td>\n    </tr>\n    <tr>\n      <th>...</th>\n      <td>...</td>\n      <td>...</td>\n      <td>...</td>\n      <td>...</td>\n      <td>...</td>\n      <td>...</td>\n      <td>...</td>\n    </tr>\n    <tr>\n      <th>995</th>\n      <td>-490520.49</td>\n      <td>76967.07</td>\n      <td>112810.34</td>\n      <td>333254.67</td>\n      <td>-19724.37</td>\n      <td>-158179.98</td>\n      <td>852.69</td>\n    </tr>\n    <tr>\n      <th>996</th>\n      <td>-148833.20</td>\n      <td>790339.75</td>\n      <td>136492.91</td>\n      <td>-138800.73</td>\n      <td>-505614.02</td>\n      <td>-150662.19</td>\n      <td>962.27</td>\n    </tr>\n    <tr>\n      <th>997</th>\n      <td>263108.39</td>\n      <td>-190198.05</td>\n      <td>925019.88</td>\n      <td>-635975.20</td>\n      <td>230623.78</td>\n      <td>814655.23</td>\n      <td>11.62</td>\n    </tr>\n    <tr>\n      <th>998</th>\n      <td>-463530.26</td>\n      <td>-831779.27</td>\n      <td>-542631.62</td>\n      <td>35550.28</td>\n      <td>-716060.59</td>\n      <td>-358870.74</td>\n      <td>18.18</td>\n    </tr>\n    <tr>\n      <th>999</th>\n      <td>-326685.82</td>\n      <td>365025.01</td>\n      <td>355324.04</td>\n      <td>23630.78</td>\n      <td>-519151.50</td>\n      <td>-186319.98</td>\n      <td>950.42</td>\n    </tr>\n  </tbody>\n</table>\n<p>1000 rows × 7 columns</p>\n</div>"
     },
     "execution_count": 23,
     "metadata": {},
     "output_type": "execute_result"
    }
   ],
   "source": [
    "df_Features"
   ],
   "metadata": {
    "collapsed": false,
    "ExecuteTime": {
     "end_time": "2024-04-30T01:37:56.919236Z",
     "start_time": "2024-04-30T01:37:56.886158Z"
    }
   },
   "id": "bac9b5d811e8dc50",
   "execution_count": 23
  },
  {
   "cell_type": "code",
   "outputs": [],
   "source": [
    "df_Features_Scaled = scaler.fit_transform(df_Features)"
   ],
   "metadata": {
    "collapsed": false,
    "ExecuteTime": {
     "end_time": "2024-04-30T01:38:16.740749Z",
     "start_time": "2024-04-30T01:38:16.721504Z"
    }
   },
   "id": "5dae51e9ba2060eb",
   "execution_count": 24
  },
  {
   "cell_type": "code",
   "outputs": [
    {
     "data": {
      "text/plain": "(1000, 8)"
     },
     "execution_count": 57,
     "metadata": {},
     "output_type": "execute_result"
    }
   ],
   "source": [],
   "metadata": {
    "collapsed": false,
    "ExecuteTime": {
     "end_time": "2024-04-30T01:48:29.838254Z",
     "start_time": "2024-04-30T01:48:29.834468Z"
    }
   },
   "id": "c975d02d55e94ee1",
   "execution_count": 57
  },
  {
   "cell_type": "code",
   "outputs": [],
   "source": [
    "df_unscaled = pd.read_csv('dataset.csv')\n",
    "scaler = MinMaxScaler()\n",
    "df_scaled = scaler.fit_transform(df_unscaled)"
   ],
   "metadata": {
    "collapsed": false,
    "ExecuteTime": {
     "end_time": "2024-04-30T01:55:39.800270Z",
     "start_time": "2024-04-30T01:55:39.777499Z"
    }
   },
   "id": "e7d9b5dc989b892b",
   "execution_count": 64
  },
  {
   "cell_type": "code",
   "outputs": [
    {
     "data": {
      "text/plain": "array([[7.29089109e-02, 7.29252842e-01, 9.62892048e-01, ...,\n        1.64066170e-01, 7.90790791e-04, 2.61801115e-02],\n       [6.46393088e-01, 5.58160977e-01, 1.15889124e-01, ...,\n        2.43918505e-01, 1.01601602e-02, 1.01249793e-01],\n       [8.28842559e-01, 4.24748403e-01, 8.30241960e-01, ...,\n        1.26848938e-01, 4.60460460e-03, 7.99649734e-02],\n       ...,\n       [6.32691057e-01, 4.05088164e-01, 9.64354746e-01, ...,\n        9.07418752e-01, 1.16116116e-02, 7.35842293e-02],\n       [2.68664083e-01, 8.39610195e-02, 2.28419098e-01, ...,\n        3.20553946e-01, 1.81781782e-02, 5.65941861e-02],\n       [3.37219571e-01, 6.82990931e-01, 6.78687831e-01, ...,\n        4.06844297e-01, 9.51351351e-01, 1.59793862e-01]])"
     },
     "execution_count": 66,
     "metadata": {},
     "output_type": "execute_result"
    }
   ],
   "source": [
    "df_scaled"
   ],
   "metadata": {
    "collapsed": false,
    "ExecuteTime": {
     "end_time": "2024-04-30T01:55:47.689519Z",
     "start_time": "2024-04-30T01:55:47.680868Z"
    }
   },
   "id": "5101407b7e9e06ec",
   "execution_count": 66
  },
  {
   "cell_type": "code",
   "outputs": [
    {
     "ename": "AttributeError",
     "evalue": "'numpy.ndarray' object has no attribute 'rename'",
     "output_type": "error",
     "traceback": [
      "\u001B[0;31m---------------------------------------------------------------------------\u001B[0m",
      "\u001B[0;31mAttributeError\u001B[0m                            Traceback (most recent call last)",
      "Cell \u001B[0;32mIn[70], line 1\u001B[0m\n\u001B[0;32m----> 1\u001B[0m df_scaled \u001B[38;5;241m=\u001B[39m df_scaled\u001B[38;5;241m.\u001B[39mrename(columns\u001B[38;5;241m=\u001B[39m{\u001B[38;5;124m'\u001B[39m\u001B[38;5;124m0\u001B[39m\u001B[38;5;124m'\u001B[39m: \u001B[38;5;124m'\u001B[39m\u001B[38;5;124mnew_label\u001B[39m\u001B[38;5;124m'\u001B[39m})\n",
      "\u001B[0;31mAttributeError\u001B[0m: 'numpy.ndarray' object has no attribute 'rename'"
     ]
    }
   ],
   "source": [
    "df_scaled = df_scaled.rename(columns={'0': 'new_label'})\n",
    "#df_Features = df.iloc[:, :7]"
   ],
   "metadata": {
    "collapsed": false,
    "ExecuteTime": {
     "end_time": "2024-04-30T01:58:52.179302Z",
     "start_time": "2024-04-30T01:58:52.132549Z"
    }
   },
   "id": "a431d62357f7ea15",
   "execution_count": 70
  },
  {
   "cell_type": "code",
   "outputs": [],
   "source": [],
   "metadata": {
    "collapsed": false
   },
   "id": "51e988c1d3be2ce2"
  }
 ],
 "metadata": {
  "kernelspec": {
   "display_name": "Python 3",
   "language": "python",
   "name": "python3"
  },
  "language_info": {
   "codemirror_mode": {
    "name": "ipython",
    "version": 2
   },
   "file_extension": ".py",
   "mimetype": "text/x-python",
   "name": "python",
   "nbconvert_exporter": "python",
   "pygments_lexer": "ipython2",
   "version": "2.7.6"
  }
 },
 "nbformat": 4,
 "nbformat_minor": 5
}
