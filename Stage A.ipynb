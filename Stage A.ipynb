{
 "cells": [
  {
   "cell_type": "code",
   "execution_count": null,
   "id": "initial_id",
   "metadata": {
    "collapsed": true
   },
   "outputs": [],
   "source": [
    "import torch\n",
    "import pandas as pd\n",
    "import matplotlib.pyplot as plt\n",
    "from sklearn.preprocessing import MinMaxScaler\n",
    "import numpy as np\n",
    "from IPython import display\n",
    "\n",
    "df = pd.read_csv('data_generation/data/transfer_data.csv')\n",
    "scaler = MinMaxScaler()\n",
    "# Fit the scaler to your data (optional, depending on the scaler)\n",
    "scaler.fit(df)\n",
    "\n",
    "# Transform the data using the fitted scaler and keep it as a DataFrame\n",
    "df = pd.DataFrame(scaler.transform(df), columns=df.columns)\n",
    "\n",
    "\n",
    "df_Features = df.iloc[:, :4]\n",
    "df_Labels = df.iloc[:, -3:]\n",
    "\n",
    "data_Features = df_Features.values\n",
    "data_Labels = df_Labels.values\n",
    "\n",
    "# Fit and transform the features\n",
    "\n",
    "\n",
    "\n",
    "#X = torch.from_numpy(X).type(torch.float)\n",
    "#y = torch.from_numpy(y).type(torch.float)\n",
    "#tensor_Features = torch.tensor(data_Features, dtype=torch.float32)\n",
    "#tensor_Labels   = torch.tensor(data_Labels  , dtype=torch.float32)\n",
    "X = torch.from_numpy(data_Features).type(torch.float)\n",
    "y = torch.from_numpy(data_Labels).type(torch.float)"
   ]
  },
  {
   "cell_type": "code",
   "outputs": [],
   "source": [
    "from sklearn.model_selection import train_test_split\n",
    "\n",
    "\n",
    "\n",
    "X_train, X_test, y_train, y_test = train_test_split(X,\n",
    "                                                    y,\n",
    "                                                    test_size=0.2,\n",
    "                                                    random_state=42)\n",
    "\n",
    "print(X_train.shape,X_test.shape,y_train.shape,y_test.shape)\n",
    "len(X_train),len(X_test),len(y_train),len(y_test)\n",
    "#y_train = torch.unsqueeze(y_train, dim=1)\n",
    "#y_test = torch.unsqueeze(y_test, dim=1)\n",
    "X_train.shape,X_test.shape,y_train.shape,y_test.shape\n"
   ],
   "metadata": {
    "collapsed": false
   },
   "id": "eee421c5d18a5d4e",
   "execution_count": null
  },
  {
   "cell_type": "code",
   "outputs": [],
   "source": [
    "# 1. Construct a model class that subclasses nn.Module\n",
    "from torch import nn\n",
    "import torch.nn.functional as F\n",
    "\n",
    "class Model_0v1(nn.Module):\n",
    "    def __init__(self):\n",
    "        super().__init__()\n",
    "        self.layer1=nn.Linear(in_features=4,out_features=32)\n",
    "        self.layer2=nn.Linear(in_features=32,out_features=3)\n",
    "        self.relu = nn.ReLU()\n",
    "        \n",
    "    def forward(self,x):\n",
    "        #return self.layer3(self.relu(self.layer2(self.relu(self.layer1(x)))))\n",
    "        return self.layer2(self.relu(self.layer1(x)))\n",
    "\n",
    "torch.manual_seed(42)\n",
    "#create an instance of the mdoel \n",
    "model_01 = Model_0v1()\n",
    "model_01.state_dict()"
   ],
   "metadata": {
    "collapsed": false
   },
   "id": "f9acf03ac04cefbe",
   "execution_count": null
  },
  {
   "cell_type": "code",
   "outputs": [],
   "source": [
    "model_01\n"
   ],
   "metadata": {
    "collapsed": false
   },
   "id": "4113756b0bf1afc9",
   "execution_count": null
  },
  {
   "cell_type": "code",
   "outputs": [],
   "source": [
    "#train the model, \n",
    "\n",
    "#the whole idea is to move the red dots to the green, unknown pararemeters to known parameters\n",
    "#loss function \n",
    "#optomizer \n",
    "\n",
    "\n",
    "# setting up a loss function \n",
    "loss_fn=nn.MSELoss()\n",
    "\n",
    "# setting up a optomizer \n",
    "optomizer = torch.optim.SGD(params = model_01.parameters(),\n",
    "                            lr = 0.05) #lr = learning rate\n",
    "\n",
    "\n"
   ],
   "metadata": {
    "collapsed": false
   },
   "id": "8066d27498f5d119",
   "execution_count": null
  },
  {
   "cell_type": "code",
   "outputs": [],
   "source": [
    "\n",
    "torch.manual_seed(42)\n",
    "epochs = 10\n",
    "\n",
    "plt.figure()\n",
    "\n",
    "losses = []\n",
    "test_losses = []\n",
    "epochs_array = []\n",
    "\n",
    "\n",
    "\n",
    "for epoch in range(epochs):\n",
    "    epochs_array.append(epoch)\n",
    "    model_01.train() \n",
    "    # 1 forward pass \n",
    "    y_preds = model_01(X_train)\n",
    "    # 2 calculate the loss \n",
    "    loss = loss_fn(y_preds,y_train)\n",
    "    losses.append(loss.item())\n",
    "    # 3 optomizer zero grad \n",
    "    optomizer.zero_grad()\n",
    "    # 4 perfrom back propogation on the loss with respect to the parameters of the model \n",
    "    loss.backward()\n",
    "    # 5. step the optimizer (perform gradeint descent )\n",
    "    optomizer.step() # by deful how the optimzer changes will acculumate through the loop so we have to zero them above in step 3\n",
    "    #TESTING\n",
    "    model_01.eval() #tunrs off diffrence setting sin th emodel not needed evaluating/testing\n",
    "    \n",
    "    with torch.inference_mode():\n",
    "        # 1. forward \n",
    "        test_pred = model_01(X_test)\n",
    "        #2. lest \n",
    "        test_loss = loss_fn(test_pred,y_test)\n",
    "        test_losses.append(test_loss.item())\n",
    "    \n",
    "\n",
    "    if epoch%100==0:\n",
    "        #print(f\"Loss: {y_preds}\")\n",
    "        print(f\" Status : {epoch*100/epochs}%  Epoch: {epoch} | Test: {loss} | Test loss: {test_loss}\")\n",
    "\n",
    "    \n",
    "plt.plot(epochs_array,losses, label='Training Loss')\n",
    "plt.plot(epochs_array,test_losses, label='Test Loss')\n",
    "plt.xlabel('Epoch')\n",
    "plt.ylabel('Loss')\n",
    "plt.title('Training Loss Curve')\n",
    "plt.legend()\n",
    "plt.show()\n",
    "    \n",
    "    \n",
    "    "
   ],
   "metadata": {
    "collapsed": false
   },
   "id": "9dc24da78009a5c5",
   "execution_count": null
  },
  {
   "cell_type": "code",
   "outputs": [],
   "source": [
    "#making estimations \n",
    "model_01.eval() #tunrs off diffrence setting sin th emodel not needed evaluating/testing\n",
    "with torch.inference_mode():\n",
    "    y_preds = model_01(X_test)\n"
   ],
   "metadata": {
    "collapsed": false
   },
   "id": "a3fc78ad33a093a8",
   "execution_count": null
  },
  {
   "cell_type": "code",
   "outputs": [],
   "source": [
    "##unscale the y_test and y_preds \n",
    "def unscale(scaled_value, i):\n",
    "    unscaled_value = scaled_value * (scaler.data_max_[i] - scaler.data_min_[i]) + (scaler.data_min_[i])\n",
    "    return unscaled_value\n",
    "\n",
    "df_result_ytest_scaled = pd.concat([pd.DataFrame(X_test.numpy()), pd.DataFrame(y_test.numpy())], ignore_index=True, axis = 'columns')\n",
    "df_result_ypreds_scaled = pd.concat([pd.DataFrame(X_test.numpy()), pd.DataFrame(y_preds.numpy())], ignore_index=True, axis = 'columns')\n",
    "\n",
    "# Apply to unscale function to each column of inputs array\n",
    "df_result_ytest = pd.DataFrame()\n",
    "df_result_ypreds = pd.DataFrame()\n",
    "\n",
    "for column in df_result_ytest_scaled.columns:\n",
    "   df_result_ytest[column] = unscale(df_result_ytest_scaled[column], column)\n",
    "   df_result_ypreds[column] = unscale(df_result_ypreds_scaled[column], column)\n",
    "df_result_ytest, df_result_ypreds"
   ],
   "metadata": {
    "collapsed": false
   },
   "id": "a889eaed5a7de49c",
   "execution_count": null
  },
  {
   "cell_type": "code",
   "outputs": [],
   "source": [
    "n = 10\n",
    "plt.scatter(epochs_array[:n], np.linalg.norm(df_result_ytest.iloc[:, -3:], axis=1)[:n], c='green',  label='y_test')\n",
    "plt.scatter(epochs_array[:n], np.linalg.norm(df_result_ypreds.iloc[:, -3:], axis=1)[:n], c='blue', label='y_preds')\n",
    "\n",
    "# Set labels and title\n",
    "plt.xlabel('Epochs')\n",
    "plt.ylabel('Magnitude')\n",
    "plt.title('Scatter Plot of Magnitudes')\n",
    "plt.legend()\n"
   ],
   "metadata": {
    "collapsed": false
   },
   "id": "4ac2986c5e223f22",
   "execution_count": null
  },
  {
   "cell_type": "code",
   "outputs": [],
   "source": [
    "n = 10\n",
    "plt.scatter(epochs_array[:n], np.linalg.norm(df_result_ytest_scaled, axis=1)[:n], c='green', label='y_test')\n",
    "plt.scatter(epochs_array[:n], np.linalg.norm(df_result_ypreds_scaled, axis=1)[:n], c='blue', label='y_preds')\n",
    "\n",
    "# Set labels and title\n",
    "plt.xlabel('Epochs')\n",
    "plt.ylabel('Magnitude')\n",
    "plt.title('Scatter Plot of Magnitudes')\n",
    "plt.legend()"
   ],
   "metadata": {
    "collapsed": false
   },
   "id": "17f39b80b2d53cc",
   "execution_count": null
  },
  {
   "cell_type": "code",
   "outputs": [],
   "source": [],
   "metadata": {
    "collapsed": false
   },
   "id": "ee78a2d20df8aaef",
   "execution_count": null
  }
 ],
 "metadata": {
  "kernelspec": {
   "display_name": "Python 3",
   "language": "python",
   "name": "python3"
  },
  "language_info": {
   "codemirror_mode": {
    "name": "ipython",
    "version": 2
   },
   "file_extension": ".py",
   "mimetype": "text/x-python",
   "name": "python",
   "nbconvert_exporter": "python",
   "pygments_lexer": "ipython2",
   "version": "2.7.6"
  }
 },
 "nbformat": 4,
 "nbformat_minor": 5
}
