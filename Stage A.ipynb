{
 "cells": [
  {
   "cell_type": "code",
   "execution_count": 5,
   "id": "initial_id",
   "metadata": {
    "collapsed": true,
    "ExecuteTime": {
     "end_time": "2024-04-30T01:44:59.440544Z",
     "start_time": "2024-04-30T01:44:59.375143Z"
    }
   },
   "outputs": [],
   "source": [
    "import torch\n",
    "import pandas as pd\n",
    "import matplotlib.pyplot as plt\n",
    "from sklearn.preprocessing import MinMaxScaler\n",
    "import numpy as np\n",
    "from IPython import display\n",
    "\n",
    "df = pd.read_csv('dataset.csv')\n",
    "scaler = MinMaxScaler()\n",
    "# Fit the scaler to your data (optional, depending on the scaler)\n",
    "scaler.fit(df)\n",
    "\n",
    "# Transform the data using the fitted scaler and keep it as a DataFrame\n",
    "df = pd.DataFrame(scaler.transform(df), columns=df.columns)\n",
    "\n",
    "\n",
    "df_Features = df.iloc[:, :7]\n",
    "df_Labels   = df.iloc[:, -1]\n",
    "\n",
    "data_Features = df_Features.values\n",
    "data_Labels = df_Labels.values\n",
    "\n",
    "scaler = MinMaxScaler()\n",
    "# Fit and transform the features\n",
    "\n",
    "\n",
    "\n",
    "#X = torch.from_numpy(X).type(torch.float)\n",
    "#y = torch.from_numpy(y).type(torch.float)\n",
    "#tensor_Features = torch.tensor(data_Features, dtype=torch.float32)\n",
    "#tensor_Labels   = torch.tensor(data_Labels  , dtype=torch.float32)\n",
    "X = torch.from_numpy(data_Features).type(torch.float)\n",
    "y = torch.from_numpy(data_Labels).type(torch.float)"
   ]
  },
  {
   "cell_type": "code",
   "outputs": [
    {
     "name": "stdout",
     "output_type": "stream",
     "text": [
      "torch.Size([800, 7]) torch.Size([200, 7]) torch.Size([800]) torch.Size([200])\n"
     ]
    },
    {
     "data": {
      "text/plain": "(torch.Size([800, 7]),\n torch.Size([200, 7]),\n torch.Size([800, 1]),\n torch.Size([200, 1]))"
     },
     "execution_count": 6,
     "metadata": {},
     "output_type": "execute_result"
    }
   ],
   "source": [
    "from sklearn.model_selection import train_test_split\n",
    "\n",
    "\n",
    "\n",
    "X_train, X_test, y_train, y_test = train_test_split(X,\n",
    "                                                    y,\n",
    "                                                    test_size=0.2,\n",
    "                                                    random_state=42)\n",
    "\n",
    "print(X_train.shape,X_test.shape,y_train.shape,y_test.shape)\n",
    "len(X_train),len(X_test),len(y_train),len(y_test)\n",
    "y_train = torch.unsqueeze(y_train, dim=1)\n",
    "y_test = torch.unsqueeze(y_test, dim=1)\n",
    "X_train.shape,X_test.shape,y_train.shape,y_test.shape\n"
   ],
   "metadata": {
    "collapsed": false,
    "ExecuteTime": {
     "end_time": "2024-04-30T01:23:59.527413Z",
     "start_time": "2024-04-30T01:23:59.518033Z"
    }
   },
   "id": "eee421c5d18a5d4e",
   "execution_count": 6
  },
  {
   "cell_type": "code",
   "outputs": [
    {
     "data": {
      "text/plain": "OrderedDict([('layer1.weight',\n              tensor([[ 0.2890,  0.3137, -0.0885,  0.3472, -0.0828,  0.0763, -0.1840],\n                      [ 0.2220,  0.3332, -0.2773,  0.3285,  0.0707,  0.2792,  0.0512],\n                      [ 0.1822, -0.0534,  0.2914,  0.0559, -0.1764,  0.0963, -0.1741],\n                      [-0.0443, -0.1535,  0.2507, -0.2984, -0.1742, -0.1067, -0.2273],\n                      [ 0.0357, -0.3733,  0.3413, -0.3211,  0.2918,  0.0629, -0.1227],\n                      [ 0.2336,  0.0589,  0.3054,  0.0413, -0.1192,  0.1016, -0.1025],\n                      [ 0.1591,  0.3375,  0.2185, -0.1652,  0.2182,  0.0676,  0.1919],\n                      [-0.2304, -0.3742, -0.1460, -0.2899,  0.3101,  0.1089,  0.1566],\n                      [ 0.1195, -0.0066,  0.2958, -0.2685,  0.0238, -0.2580,  0.1165],\n                      [-0.1302,  0.1158, -0.0787,  0.3135, -0.2240, -0.2254, -0.2254],\n                      [ 0.3400,  0.1260,  0.3637, -0.3119, -0.3749, -0.2957, -0.2543],\n                      [ 0.1531,  0.1353,  0.3141, -0.1952, -0.2577,  0.2005, -0.1528],\n                      [ 0.2294, -0.0897,  0.2162, -0.2937, -0.1907,  0.1152,  0.0799],\n                      [-0.0964,  0.2253,  0.2569, -0.2741, -0.2018,  0.3461, -0.1275],\n                      [-0.1340, -0.3657, -0.2164,  0.0944, -0.0499, -0.2744,  0.0089],\n                      [-0.2582, -0.3207, -0.2081, -0.3308, -0.2407,  0.3778,  0.0714],\n                      [ 0.1165, -0.3525, -0.2482, -0.1258,  0.0591, -0.3326, -0.1629],\n                      [-0.2263,  0.0010, -0.1406, -0.0262, -0.2561, -0.2594, -0.2205],\n                      [-0.1294, -0.2983,  0.3169, -0.0750,  0.3252,  0.1178, -0.3201],\n                      [ 0.2616, -0.1040, -0.1449, -0.3137, -0.3758,  0.1081, -0.0826],\n                      [ 0.1472, -0.3102,  0.2806, -0.2774, -0.0653,  0.0789,  0.1951],\n                      [ 0.3051,  0.3443, -0.2997,  0.0951, -0.1626, -0.0414, -0.2829],\n                      [ 0.3443, -0.2774,  0.2020,  0.1328,  0.1228, -0.2043,  0.3436],\n                      [ 0.0831,  0.0486, -0.3331,  0.1587, -0.0567, -0.1732,  0.3247],\n                      [ 0.0843, -0.2091, -0.1913, -0.0180,  0.2110, -0.0966, -0.2157],\n                      [-0.1294, -0.2824,  0.1348,  0.2926, -0.3558,  0.0878,  0.1953],\n                      [ 0.0685, -0.1346,  0.1973,  0.1986,  0.1413, -0.0664, -0.1001],\n                      [ 0.0404, -0.0668, -0.1126,  0.2416,  0.3248, -0.0374, -0.0846],\n                      [ 0.0055, -0.0226,  0.0909,  0.1059, -0.3433, -0.1395,  0.3183],\n                      [ 0.1472, -0.0188, -0.2279, -0.2312, -0.3386, -0.1232,  0.1276],\n                      [ 0.2410,  0.1745, -0.3341, -0.2273, -0.0596,  0.3656,  0.0547],\n                      [-0.0979,  0.1564, -0.1440, -0.2446,  0.2759, -0.1719, -0.0758]])),\n             ('layer1.bias',\n              tensor([-0.3760,  0.2530,  0.2864,  0.1377, -0.2635, -0.3730, -0.3070,  0.2818,\n                       0.1815,  0.3181,  0.1980,  0.0957, -0.0037, -0.2874, -0.3238, -0.3535,\n                       0.1547, -0.1856, -0.0761, -0.2175, -0.0689, -0.2660, -0.2470,  0.1254,\n                      -0.1123,  0.2333, -0.1213, -0.2773, -0.0667, -0.1832, -0.1156, -0.3598])),\n             ('layer2.weight',\n              tensor([[ 0.0989, -0.1231,  0.0889,  0.0802,  0.1263, -0.1356,  0.1271, -0.0836,\n                        0.0656,  0.1660, -0.0249, -0.0014, -0.0407, -0.1476,  0.0848, -0.1755,\n                        0.1097,  0.1323,  0.1672, -0.0417, -0.1452,  0.0397,  0.0977, -0.1759,\n                       -0.0401, -0.1060, -0.0155, -0.0870, -0.0723, -0.0561, -0.1680,  0.1450]])),\n             ('layer2.bias', tensor([0.1482]))])"
     },
     "execution_count": 7,
     "metadata": {},
     "output_type": "execute_result"
    }
   ],
   "source": [
    "# 1. Construct a model class that subclasses nn.Module\n",
    "from torch import nn\n",
    "import torch.nn.functional as F\n",
    "\n",
    "class Model_0v1(nn.Module):\n",
    "    def __init__(self):\n",
    "        super().__init__()\n",
    "        self.layer1=nn.Linear(in_features=7,out_features=32)\n",
    "        self.layer2=nn.Linear(in_features=32,out_features=1)\n",
    "        self.relu = nn.ReLU()\n",
    "        \n",
    "    def forward(self,x):\n",
    "        #return self.layer3(self.relu(self.layer2(self.relu(self.layer1(x)))))\n",
    "        return self.layer2(self.relu(self.layer1(x)))\n",
    "\n",
    "torch.manual_seed(42)\n",
    "#create an instance of the mdoel \n",
    "model_01 = Model_0v1()\n",
    "model_01.state_dict()"
   ],
   "metadata": {
    "collapsed": false,
    "ExecuteTime": {
     "end_time": "2024-04-30T01:24:00.224443Z",
     "start_time": "2024-04-30T01:24:00.209313Z"
    }
   },
   "id": "f9acf03ac04cefbe",
   "execution_count": 7
  },
  {
   "cell_type": "code",
   "outputs": [
    {
     "data": {
      "text/plain": "Model_0v1(\n  (layer1): Linear(in_features=7, out_features=32, bias=True)\n  (layer2): Linear(in_features=32, out_features=1, bias=True)\n  (relu): ReLU()\n)"
     },
     "execution_count": 8,
     "metadata": {},
     "output_type": "execute_result"
    }
   ],
   "source": [
    "model_01\n"
   ],
   "metadata": {
    "collapsed": false,
    "ExecuteTime": {
     "end_time": "2024-04-30T01:15:13.779833Z",
     "start_time": "2024-04-30T01:15:13.774125Z"
    }
   },
   "id": "4113756b0bf1afc9",
   "execution_count": 8
  },
  {
   "cell_type": "code",
   "outputs": [],
   "source": [
    "#train the model, \n",
    "\n",
    "#the whole idea is to move the red dots to the green, unknown pararemeters to known parameters\n",
    "#loss function \n",
    "#optomizer \n",
    "\n",
    "\n",
    "# setting up a loss function \n",
    "loss_fn=nn.MSELoss()\n",
    "\n",
    "# setting up a optomizer \n",
    "optomizer = torch.optim.SGD(params = model_01.parameters(),\n",
    "                            lr = 0.05) #lr = learning rate\n",
    "\n",
    "\n"
   ],
   "metadata": {
    "collapsed": false,
    "ExecuteTime": {
     "end_time": "2024-04-30T01:24:07.216337Z",
     "start_time": "2024-04-30T01:24:07.211223Z"
    }
   },
   "id": "8066d27498f5d119",
   "execution_count": 9
  },
  {
   "cell_type": "code",
   "outputs": [
    {
     "name": "stdout",
     "output_type": "stream",
     "text": [
      "Epoch: 0 | Test: 0.019570033997297287 | Test loss: 0.02090090699493885\n",
      "Epoch: 100 | Test: 0.010300579480826855 | Test loss: 0.011355689726769924\n",
      "Epoch: 200 | Test: 0.008263073861598969 | Test loss: 0.009117753244936466\n",
      "Epoch: 300 | Test: 0.007529948838055134 | Test loss: 0.008270966820418835\n",
      "Epoch: 400 | Test: 0.007161542307585478 | Test loss: 0.007858090102672577\n",
      "Epoch: 500 | Test: 0.006933158729225397 | Test loss: 0.007618800271302462\n",
      "Epoch: 600 | Test: 0.006772637367248535 | Test loss: 0.0074645704589784145\n",
      "Epoch: 700 | Test: 0.0066484748385846615 | Test loss: 0.0073492503724992275\n",
      "Epoch: 800 | Test: 0.006544954609125853 | Test loss: 0.007246173452585936\n",
      "Epoch: 900 | Test: 0.006455414928495884 | Test loss: 0.007156813517212868\n"
     ]
    },
    {
     "data": {
      "text/plain": "<Figure size 640x480 with 1 Axes>",
      "image/png": "[encoded data removed]"
     },
     "metadata": {},
     "output_type": "display_data"
    }
   ],
   "source": [
    "\n",
    "torch.manual_seed(42)\n",
    "epochs = 1000\n",
    "\n",
    "plt.figure()\n",
    "\n",
    "losses = []\n",
    "test_losses = []\n",
    "\n",
    "\n",
    "\n",
    "for epoch in range(epochs):\n",
    "    model_01.train() \n",
    "    # 1 forward pass \n",
    "    y_preds = model_01(X_train)\n",
    "    # 2 calculate the loss \n",
    "    loss = loss_fn(y_preds,y_train)\n",
    "    losses.append(loss.item())\n",
    "    # 3 optomizer zero grad \n",
    "    optomizer.zero_grad()\n",
    "    # 4 perfrom back propogation on the loss with respect to the parameters of the model \n",
    "    loss.backward()\n",
    "    # 5. step the optimizer (perform gradeint descent )\n",
    "    optomizer.step() # by deful how the optimzer changes will acculumate through the loop so we have to zero them above in step 3\n",
    "    #TESTING\n",
    "    model_01.eval() #tunrs off diffrence setting sin th emodel not needed evaluating/testing\n",
    "    \n",
    "    with torch.inference_mode():\n",
    "        # 1. forward \n",
    "        test_pred = model_01(X_test)\n",
    "        #2. lest \n",
    "        test_loss = loss_fn(test_pred,y_test)\n",
    "        test_losses.append(test_loss.item())\n",
    "    \n",
    "\n",
    "    if epoch%100==0:\n",
    "        #print(f\"Loss: {y_preds}\")\n",
    "        print(f\"Epoch: {epoch} | Test: {loss} | Test loss: {test_loss}\")\n",
    "\n",
    "    \n",
    "plt.plot(losses, label='Training Loss')\n",
    "plt.xlabel('Epoch')\n",
    "plt.ylabel('Loss')\n",
    "plt.title('Training Loss Curve')\n",
    "plt.legend()\n",
    "plt.show()\n",
    "    "
   ],
   "metadata": {
    "collapsed": false,
    "ExecuteTime": {
     "end_time": "2024-04-30T01:15:05.649470Z",
     "start_time": "2024-04-30T01:15:05.260972Z"
    }
   },
   "id": "9dc24da78009a5c5",
   "execution_count": 10
  },
  {
   "cell_type": "code",
   "outputs": [
    {
     "data": {
      "text/plain": "tensor(0.0064, grad_fn=<MseLossBackward0>)"
     },
     "execution_count": 11,
     "metadata": {},
     "output_type": "execute_result"
    }
   ],
   "source": [
    "model_01.train() \n",
    "    # 1 forward pass \n",
    "y_preds = model_01(X_train)\n",
    "    # 2 calculate the loss \n",
    "loss = loss_fn(y_preds,y_train)\n",
    "loss"
   ],
   "metadata": {
    "collapsed": false,
    "ExecuteTime": {
     "end_time": "2024-04-30T01:22:27.818798Z",
     "start_time": "2024-04-30T01:22:27.794221Z"
    }
   },
   "id": "c0ea3b5e29a0b2cf",
   "execution_count": 11
  },
  {
   "cell_type": "code",
   "outputs": [
    {
     "data": {
      "text/plain": "tensor(0.0064, grad_fn=<MseLossBackward0>)"
     },
     "execution_count": 12,
     "metadata": {},
     "output_type": "execute_result"
    }
   ],
   "source": [
    "loss"
   ],
   "metadata": {
    "collapsed": false,
    "ExecuteTime": {
     "end_time": "2024-04-30T01:22:28.892604Z",
     "start_time": "2024-04-30T01:22:28.578125Z"
    }
   },
   "id": "fd3bf5724f6b502c",
   "execution_count": 12
  },
  {
   "cell_type": "code",
   "outputs": [
    {
     "data": {
      "text/plain": "Model_0v1(\n  (layer1): Linear(in_features=7, out_features=32, bias=True)\n  (layer2): Linear(in_features=32, out_features=1, bias=True)\n  (relu): ReLU()\n)"
     },
     "execution_count": 13,
     "metadata": {},
     "output_type": "execute_result"
    }
   ],
   "source": [
    "model_01.train() \n",
    "    # 1 forward pass \n",
    "y_preds = model_01(X_train)\n",
    "loss = loss_fn(y_preds,y_train)\n",
    "loss\n",
    "optomizer.zero_grad()\n",
    "    # 4 perfrom back propogation on the loss with respect to the parameters of the model \n",
    "loss.backward()\n",
    "    # 5. step the optimizer (perform gradeint descent )\n",
    "optomizer.step() # by deful how the optimzer changes will acculumate through the loop so we have to zero them above in step 3\n",
    "    #TESTING\n",
    "model_01.eval() #tunrs off diffrence setting sin th emodel not needed evaluating/testing"
   ],
   "metadata": {
    "collapsed": false,
    "ExecuteTime": {
     "end_time": "2024-04-30T01:23:31.191516Z",
     "start_time": "2024-04-30T01:23:31.078787Z"
    }
   },
   "id": "4daa32391f922176",
   "execution_count": 13
  },
  {
   "cell_type": "code",
   "outputs": [
    {
     "data": {
      "text/plain": "tensor(0.0064, grad_fn=<MseLossBackward0>)"
     },
     "execution_count": 14,
     "metadata": {},
     "output_type": "execute_result"
    }
   ],
   "source": [
    "y_preds = model_01(X_train)\n",
    "loss = loss_fn(y_preds,y_train)\n",
    "loss"
   ],
   "metadata": {
    "collapsed": false,
    "ExecuteTime": {
     "end_time": "2024-04-30T01:24:31.579188Z",
     "start_time": "2024-04-30T01:24:31.575041Z"
    }
   },
   "id": "e40870ffb4de06ec",
   "execution_count": 14
  },
  {
   "cell_type": "code",
   "outputs": [
    {
     "data": {
      "text/plain": "Model_0v1(\n  (layer1): Linear(in_features=7, out_features=32, bias=True)\n  (layer2): Linear(in_features=32, out_features=1, bias=True)\n  (relu): ReLU()\n)"
     },
     "execution_count": 15,
     "metadata": {},
     "output_type": "execute_result"
    }
   ],
   "source": [
    "optomizer.zero_grad()\n",
    "    # 4 perfrom back propogation on the loss with respect to the parameters of the model \n",
    "loss.backward()\n",
    "    # 5. step the optimizer (perform gradeint descent )\n",
    "optomizer.step() # by deful how the optimzer changes will acculumate through the loop so we have to zero them above in step 3\n",
    "    #TESTING\n",
    "model_01.eval()"
   ],
   "metadata": {
    "collapsed": false,
    "ExecuteTime": {
     "end_time": "2024-04-30T01:24:28.639417Z",
     "start_time": "2024-04-30T01:24:28.621116Z"
    }
   },
   "id": "45cc170c8aa941d",
   "execution_count": 15
  }
 ],
 "metadata": {
  "kernelspec": {
   "display_name": "Python 3",
   "language": "python",
   "name": "python3"
  },
  "language_info": {
   "codemirror_mode": {
    "name": "ipython",
    "version": 2
   },
   "file_extension": ".py",
   "mimetype": "text/x-python",
   "name": "python",
   "nbconvert_exporter": "python",
   "pygments_lexer": "ipython2",
   "version": "2.7.6"
  }
 },
 "nbformat": 4,
 "nbformat_minor": 5
}
